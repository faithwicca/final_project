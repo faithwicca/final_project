{
  "cells": [
    {
      "cell_type": "markdown",
      "id": "0ba1d46a-5759-4bd0-b806-bd1c3305d299",
      "metadata": {
        "tags": [],
        "id": "0ba1d46a-5759-4bd0-b806-bd1c3305d299"
      },
      "source": [
        "# Проект по курсу «Наука о данных» — Препарирование игры в дурака\n",
        "Дмитрий Махаев\n",
        "\n",
        "## Описание проекта\n",
        "Меня всегда интересовала известная карточная игра в дурака. Давно мучавшей меня идеей было убеждение о том, что стратегия, по которой я и большинство моих знакомых, с кем я разговаривал на эту тему, играют в дурака, является не лучше, чем играть случайно. Обычно, играя с друзьями и не слишком задумываясь о том, как бы победить, я всегда кладу самую слабую карту на стол за некоторыми исключениями. Этот проект изначально был создан для проверки гипотезы о том, что играть так — все равно что всегда играть случайную карту из руки, которая подходит по правилам. Этот проект является адаптацией личного проекта, поэтому не претендует на выполнение большого количества требований, хотя, на мой взгляд, весьма интересен.\n",
        "\n",
        "Для исследований была написана, собственно, игра в дурака для 2-6 игроков с классическими правилами, в которую могут играть как боты, так и человек. Я постарался создать максимально удобное окружение для написания новых ботов, играющих потенциально любые стратегии, так как в дальнейшем я планирую продолжить исследование. Игра и большинство ботов находятся в файле fool.py — внутри него есть описание некоторых элементов.\n",
        "\n",
        "## План\n",
        "- Проверить вышеописанную гипотезу\n",
        "- Попытаться улучшить наивную стратегию «всегда класть самую маленькую карту»\n",
        "- Натренировать нейросеть, играющую в дурака, попытаться с помощью неё победить наивную стратегию. Интересно проверить, можно ли побить такую стратегию, имея минимальные данные, не запоминать карты, но иметь какую-никакую думалку. \n",
        "\n",
        "### Устройство кода игры\n",
        "- Основное окружение выполнено в качестве класса Game\n",
        "- Вспомогательно было создан класс колоды Deck, класс «ведущего», определяющего, кто сейчас ходит Chain, и несколько вспомогательных функций.\n",
        "- Классы реализации всех ботов и возможности играть человеку наследуют от класса Player и могут получать информацию о происходящем почти в любой момент игры.\n",
        "\n"
      ]
    },
    {
      "cell_type": "code",
      "execution_count": 2,
      "id": "28eb1508-9385-4abb-94ba-c7b61606f1de",
      "metadata": {
        "id": "28eb1508-9385-4abb-94ba-c7b61606f1de"
      },
      "outputs": [],
      "source": [
        "import fool as f\n",
        "from tqdm import tqdm\n",
        "import matplotlib.pyplot as plt\n",
        "import pandas as pd"
      ]
    },
    {
      "cell_type": "markdown",
      "id": "57b07b8d-2d74-4121-847f-e9cf8316a080",
      "metadata": {
        "tags": [],
        "id": "57b07b8d-2d74-4121-847f-e9cf8316a080"
      },
      "source": [
        "## Демонстрация работы игры"
      ]
    },
    {
      "cell_type": "markdown",
      "id": "0211f826-9ff6-4d24-b694-24d56b5a836b",
      "metadata": {
        "id": "0211f826-9ff6-4d24-b694-24d56b5a836b"
      },
      "source": [
        "Запустив ячейку ниже, можно сыграть игру 1 на 1 с ботом, играющим самый левый подходящий ход в руке. Таким ботом я симулирую стратегию «играть случайный ход». Ход выбирается на самом деле не случайно, поскольку люди не умеют хорошо выбирать случайные числа. Код не написан с целью играть в игру, поэтому UI, наверное, не самый удобный, но играть можно.\n",
        "\n",
        "trumpcard — козырная карта\n",
        "Ходы нумеруются с единицы, pass и take тоже"
      ]
    },
    {
      "cell_type": "code",
      "execution_count": null,
      "id": "3876f8a1-b486-4587-a423-a3b336cdcc79",
      "metadata": {
        "jupyter": {
          "outputs_hidden": true
        },
        "tags": [],
        "id": "3876f8a1-b486-4587-a423-a3b336cdcc79",
        "outputId": "a389bb0c-0a48-48ea-f9a2-f34ae62d12f1"
      },
      "outputs": [
        {
          "name": "stdin",
          "output_type": "stream",
          "text": [
            "Введите своё имя ^-^ dima\n"
          ]
        },
        {
          "name": "stdout",
          "output_type": "stream",
          "text": [
            "----------------------------------------------------------------------------------------------------\n",
            "trumpcard is 10♦\n",
            "dima, you hand: ['7♣', '9♦', 'K♠', 'J♠', '8♥', '7♠'], the board: {'toBeat': '10♠'}\n",
            "You defend, you can play either of these moves ['9♦', 'K♠', 'J♠'] and TAKE\n"
          ]
        },
        {
          "name": "stdin",
          "output_type": "stream",
          "text": [
            "Please, pick a number of a move 3\n"
          ]
        },
        {
          "name": "stdout",
          "output_type": "stream",
          "text": [
            "----------------------------------------------------------------------------------------------------\n",
            "dima, you hand: ['7♣', '9♦', 'K♠', '8♥', '7♠'], the board: {'10♠': 'J♠', 'toBeat': '10♥'}\n",
            "You defend, you can play either of these moves ['9♦'] and TAKE\n"
          ]
        },
        {
          "name": "stdin",
          "output_type": "stream",
          "text": [
            "Please, pick a number of a move 1\n"
          ]
        },
        {
          "name": "stdout",
          "output_type": "stream",
          "text": [
            "----------------------------------------------------------------------------------------------------\n",
            "dima, you hand: ['7♣', 'K♠', '8♥', '7♠'], the board: {'10♠': 'J♠', '10♥': '9♦', 'toBeat': 'J♣'}\n",
            "You defend, you can play either of these moves [] and TAKE\n"
          ]
        },
        {
          "name": "stdin",
          "output_type": "stream",
          "text": [
            "Please, pick a number of a move 1\n"
          ]
        },
        {
          "name": "stdout",
          "output_type": "stream",
          "text": [
            "----------------------------------------------------------------------------------------------------\n",
            "dima, you hand: ['7♣', 'K♠', '8♥', '7♠', '10♠', 'J♠', '10♥', '9♦', 'J♣'], the board: {'toBeat': 'Q♣'}\n",
            "You defend, you can play either of these moves ['9♦'] and TAKE\n"
          ]
        },
        {
          "name": "stdin",
          "output_type": "stream",
          "text": [
            "Please, pick a number of a move 1\n"
          ]
        },
        {
          "name": "stdout",
          "output_type": "stream",
          "text": [
            "----------------------------------------------------------------------------------------------------\n",
            "dima, your hand: ['7♣', 'K♠', '8♥', '7♠', '10♠', 'J♠', '10♥', 'J♣'], the board: {}\n",
            "You attack, you can play either of these moves: ['7♣', 'K♠', '8♥', '7♠', '10♠', 'J♠', '10♥', 'J♣']\n"
          ]
        },
        {
          "name": "stdin",
          "output_type": "stream",
          "text": [
            "Please, pick a number of a move 1\n"
          ]
        },
        {
          "name": "stdout",
          "output_type": "stream",
          "text": [
            "----------------------------------------------------------------------------------------------------\n",
            "dima, your hand: ['K♠', '8♥', '7♠', '10♠', 'J♠', '10♥', 'J♣'], the board: {'7♣': 'K♦'}\n",
            "You attack, you can play either of these moves: ['K♠', '7♠'] and PASS\n"
          ]
        },
        {
          "name": "stdin",
          "output_type": "stream",
          "text": [
            "Please, pick a number of a move 2\n"
          ]
        },
        {
          "name": "stdout",
          "output_type": "stream",
          "text": [
            "----------------------------------------------------------------------------------------------------\n",
            "dima, your hand: ['K♠', '8♥', '10♠', 'J♠', '10♥', 'J♣'], the board: {'7♣': 'K♦', '7♠': 'A♠'}\n",
            "You attack, you can play either of these moves: ['K♠'] and PASS\n"
          ]
        },
        {
          "name": "stdin",
          "output_type": "stream",
          "text": [
            "Please, pick a number of a move 1\n"
          ]
        },
        {
          "name": "stdout",
          "output_type": "stream",
          "text": [
            "----------------------------------------------------------------------------------------------------\n",
            "dima, your hand: ['8♥', '10♠', 'J♠', '10♥', 'J♣'], the board: {'7♣': 'K♦', '7♠': 'A♠', 'toBeat': 'K♠'}\n",
            "You attack, you can play either of these moves: [] and PASS\n"
          ]
        },
        {
          "name": "stdin",
          "output_type": "stream",
          "text": [
            "Please, pick a number of a move 1\n"
          ]
        },
        {
          "name": "stdout",
          "output_type": "stream",
          "text": [
            "----------------------------------------------------------------------------------------------------\n",
            "dima, your hand: ['8♥', '10♠', 'J♠', '10♥', 'J♣', '8♣'], the board: {}\n",
            "You attack, you can play either of these moves: ['8♥', '10♠', 'J♠', '10♥', 'J♣', '8♣']\n"
          ]
        },
        {
          "ename": "KeyboardInterrupt",
          "evalue": "Interrupted by user",
          "output_type": "error",
          "traceback": [
            "\u001b[0;31m---------------------------------------------------------------------------\u001b[0m",
            "\u001b[0;31mKeyboardInterrupt\u001b[0m                         Traceback (most recent call last)",
            "Cell \u001b[0;32mIn[2], line 4\u001b[0m\n\u001b[1;32m      2\u001b[0m player \u001b[38;5;241m=\u001b[39m f\u001b[38;5;241m.\u001b[39mRealPlayer(\u001b[38;5;124mf\u001b[39m\u001b[38;5;124m\"\u001b[39m\u001b[38;5;132;01m{\u001b[39;00m\u001b[38;5;28minput\u001b[39m(\u001b[38;5;124m'\u001b[39m\u001b[38;5;124mВведите своё имя ^-^\u001b[39m\u001b[38;5;124m'\u001b[39m)\u001b[38;5;132;01m}\u001b[39;00m\u001b[38;5;124m\"\u001b[39m)\n\u001b[1;32m      3\u001b[0m game \u001b[38;5;241m=\u001b[39m f\u001b[38;5;241m.\u001b[39mGame((bot, player))\n\u001b[0;32m----> 4\u001b[0m \u001b[43mgame\u001b[49m\u001b[38;5;241;43m.\u001b[39;49m\u001b[43mplay\u001b[49m\u001b[43m(\u001b[49m\u001b[43m)\u001b[49m\n",
            "File \u001b[0;32m~/Documents/fool/fool.py:279\u001b[0m, in \u001b[0;36mGame.play\u001b[0;34m(self)\u001b[0m\n\u001b[1;32m    277\u001b[0m \u001b[38;5;28;01mwhile\u001b[39;00m \u001b[38;5;129;01mnot\u001b[39;00m \u001b[38;5;28mself\u001b[39m\u001b[38;5;241m.\u001b[39mstop:\n\u001b[1;32m    278\u001b[0m     \u001b[38;5;28mself\u001b[39m\u001b[38;5;241m.\u001b[39mmoveN \u001b[38;5;241m+\u001b[39m\u001b[38;5;241m=\u001b[39m \u001b[38;5;241m1\u001b[39m\n\u001b[0;32m--> 279\u001b[0m     \u001b[38;5;28;43mself\u001b[39;49m\u001b[38;5;241;43m.\u001b[39;49m\u001b[43mmove\u001b[49m\u001b[43m(\u001b[49m\u001b[43m)\u001b[49m\n\u001b[1;32m    280\u001b[0m     \u001b[38;5;28mself\u001b[39m\u001b[38;5;241m.\u001b[39mdeckHistory\u001b[38;5;241m.\u001b[39mappend(\u001b[38;5;28mself\u001b[39m\u001b[38;5;241m.\u001b[39mdeck\u001b[38;5;241m.\u001b[39morder)\n",
            "File \u001b[0;32m~/Documents/fool/fool.py:240\u001b[0m, in \u001b[0;36mGame.move\u001b[0;34m(self)\u001b[0m\n\u001b[1;32m    238\u001b[0m \u001b[38;5;28;01mwhile\u001b[39;00m \u001b[38;5;129;01mnot\u001b[39;00m \u001b[38;5;28mself\u001b[39m\u001b[38;5;241m.\u001b[39mmoveState[\u001b[38;5;124m'\u001b[39m\u001b[38;5;124mpass\u001b[39m\u001b[38;5;124m'\u001b[39m]:\n\u001b[1;32m    239\u001b[0m     moves \u001b[38;5;241m=\u001b[39m legitAttack(\u001b[38;5;28mself\u001b[39m\u001b[38;5;241m.\u001b[39mattacker\u001b[38;5;241m.\u001b[39mhand, \u001b[38;5;28mself\u001b[39m\u001b[38;5;241m.\u001b[39mboard, \u001b[38;5;28mself\u001b[39m\u001b[38;5;241m.\u001b[39mvaluesOnBoard, np\u001b[38;5;241m.\u001b[39msize(\u001b[38;5;28mself\u001b[39m\u001b[38;5;241m.\u001b[39mdefender\u001b[38;5;241m.\u001b[39mhand))\n\u001b[0;32m--> 240\u001b[0m     move \u001b[38;5;241m=\u001b[39m \u001b[38;5;28;43mself\u001b[39;49m\u001b[38;5;241;43m.\u001b[39;49m\u001b[43mattacker\u001b[49m\u001b[38;5;241;43m.\u001b[39;49m\u001b[43mattack\u001b[49m\u001b[43m(\u001b[49m\u001b[43mmoves\u001b[49m\u001b[43m)\u001b[49m\n\u001b[1;32m    241\u001b[0m     \u001b[38;5;28;01mif\u001b[39;00m \u001b[38;5;28mself\u001b[39m\u001b[38;5;241m.\u001b[39mmanual: \u001b[38;5;28mself\u001b[39m\u001b[38;5;241m.\u001b[39mverbose(isAttack\u001b[38;5;241m=\u001b[39m\u001b[38;5;28;01mTrue\u001b[39;00m, data\u001b[38;5;241m=\u001b[39m{\u001b[38;5;124m'\u001b[39m\u001b[38;5;124mmove\u001b[39m\u001b[38;5;124m'\u001b[39m: move, \u001b[38;5;124m'\u001b[39m\u001b[38;5;124mmoves\u001b[39m\u001b[38;5;124m'\u001b[39m: moves})\n\u001b[1;32m    242\u001b[0m     \u001b[38;5;28;01massert\u001b[39;00m move \u001b[38;5;129;01min\u001b[39;00m moves, \u001b[38;5;28mself\u001b[39m\u001b[38;5;241m.\u001b[39massertion(move, moves)\n",
            "File \u001b[0;32m~/Documents/fool/fool.py:329\u001b[0m, in \u001b[0;36mRealPlayer.attack\u001b[0;34m(self, legalMoves)\u001b[0m\n\u001b[1;32m    327\u001b[0m \u001b[38;5;28;01melse\u001b[39;00m:\n\u001b[1;32m    328\u001b[0m     \u001b[38;5;28mprint\u001b[39m(\u001b[38;5;124mf\u001b[39m\u001b[38;5;124m'\u001b[39m\u001b[38;5;124mYou attack, you can play either of these moves: \u001b[39m\u001b[38;5;132;01m{\u001b[39;00mvision(legalMoves)\u001b[38;5;132;01m}\u001b[39;00m\u001b[38;5;124m'\u001b[39m)\n\u001b[0;32m--> 329\u001b[0m i \u001b[38;5;241m=\u001b[39m \u001b[38;5;28mint\u001b[39m(\u001b[38;5;28;43minput\u001b[39;49m\u001b[43m(\u001b[49m\u001b[38;5;124;43m'\u001b[39;49m\u001b[38;5;124;43mPlease, pick a number of a move\u001b[39;49m\u001b[38;5;124;43m'\u001b[39;49m\u001b[43m)\u001b[49m)\n\u001b[1;32m    330\u001b[0m \u001b[38;5;28;01mreturn\u001b[39;00m legalMoves[i \u001b[38;5;241m-\u001b[39m \u001b[38;5;241m1\u001b[39m]\n",
            "File \u001b[0;32m~/opt/anaconda3/lib/python3.9/site-packages/ipykernel/kernelbase.py:1175\u001b[0m, in \u001b[0;36mKernel.raw_input\u001b[0;34m(self, prompt)\u001b[0m\n\u001b[1;32m   1171\u001b[0m \u001b[38;5;28;01mif\u001b[39;00m \u001b[38;5;129;01mnot\u001b[39;00m \u001b[38;5;28mself\u001b[39m\u001b[38;5;241m.\u001b[39m_allow_stdin:\n\u001b[1;32m   1172\u001b[0m     \u001b[38;5;28;01mraise\u001b[39;00m StdinNotImplementedError(\n\u001b[1;32m   1173\u001b[0m         \u001b[38;5;124m\"\u001b[39m\u001b[38;5;124mraw_input was called, but this frontend does not support input requests.\u001b[39m\u001b[38;5;124m\"\u001b[39m\n\u001b[1;32m   1174\u001b[0m     )\n\u001b[0;32m-> 1175\u001b[0m \u001b[38;5;28;01mreturn\u001b[39;00m \u001b[38;5;28;43mself\u001b[39;49m\u001b[38;5;241;43m.\u001b[39;49m\u001b[43m_input_request\u001b[49m\u001b[43m(\u001b[49m\n\u001b[1;32m   1176\u001b[0m \u001b[43m    \u001b[49m\u001b[38;5;28;43mstr\u001b[39;49m\u001b[43m(\u001b[49m\u001b[43mprompt\u001b[49m\u001b[43m)\u001b[49m\u001b[43m,\u001b[49m\n\u001b[1;32m   1177\u001b[0m \u001b[43m    \u001b[49m\u001b[38;5;28;43mself\u001b[39;49m\u001b[38;5;241;43m.\u001b[39;49m\u001b[43m_parent_ident\u001b[49m\u001b[43m[\u001b[49m\u001b[38;5;124;43m\"\u001b[39;49m\u001b[38;5;124;43mshell\u001b[39;49m\u001b[38;5;124;43m\"\u001b[39;49m\u001b[43m]\u001b[49m\u001b[43m,\u001b[49m\n\u001b[1;32m   1178\u001b[0m \u001b[43m    \u001b[49m\u001b[38;5;28;43mself\u001b[39;49m\u001b[38;5;241;43m.\u001b[39;49m\u001b[43mget_parent\u001b[49m\u001b[43m(\u001b[49m\u001b[38;5;124;43m\"\u001b[39;49m\u001b[38;5;124;43mshell\u001b[39;49m\u001b[38;5;124;43m\"\u001b[39;49m\u001b[43m)\u001b[49m\u001b[43m,\u001b[49m\n\u001b[1;32m   1179\u001b[0m \u001b[43m    \u001b[49m\u001b[43mpassword\u001b[49m\u001b[38;5;241;43m=\u001b[39;49m\u001b[38;5;28;43;01mFalse\u001b[39;49;00m\u001b[43m,\u001b[49m\n\u001b[1;32m   1180\u001b[0m \u001b[43m\u001b[49m\u001b[43m)\u001b[49m\n",
            "File \u001b[0;32m~/opt/anaconda3/lib/python3.9/site-packages/ipykernel/kernelbase.py:1217\u001b[0m, in \u001b[0;36mKernel._input_request\u001b[0;34m(self, prompt, ident, parent, password)\u001b[0m\n\u001b[1;32m   1214\u001b[0m             \u001b[38;5;28;01mbreak\u001b[39;00m\n\u001b[1;32m   1215\u001b[0m \u001b[38;5;28;01mexcept\u001b[39;00m \u001b[38;5;167;01mKeyboardInterrupt\u001b[39;00m:\n\u001b[1;32m   1216\u001b[0m     \u001b[38;5;66;03m# re-raise KeyboardInterrupt, to truncate traceback\u001b[39;00m\n\u001b[0;32m-> 1217\u001b[0m     \u001b[38;5;28;01mraise\u001b[39;00m \u001b[38;5;167;01mKeyboardInterrupt\u001b[39;00m(\u001b[38;5;124m\"\u001b[39m\u001b[38;5;124mInterrupted by user\u001b[39m\u001b[38;5;124m\"\u001b[39m) \u001b[38;5;28;01mfrom\u001b[39;00m \u001b[38;5;28mNone\u001b[39m\n\u001b[1;32m   1218\u001b[0m \u001b[38;5;28;01mexcept\u001b[39;00m \u001b[38;5;167;01mException\u001b[39;00m:\n\u001b[1;32m   1219\u001b[0m     \u001b[38;5;28mself\u001b[39m\u001b[38;5;241m.\u001b[39mlog\u001b[38;5;241m.\u001b[39mwarning(\u001b[38;5;124m\"\u001b[39m\u001b[38;5;124mInvalid Message:\u001b[39m\u001b[38;5;124m\"\u001b[39m, exc_info\u001b[38;5;241m=\u001b[39m\u001b[38;5;28;01mTrue\u001b[39;00m)\n",
            "\u001b[0;31mKeyboardInterrupt\u001b[0m: Interrupted by user"
          ]
        }
      ],
      "source": [
        "bot = f.RS_Left('bot')\n",
        "player = f.RealPlayer(f\"{input('Введите своё имя ^-^')}\")\n",
        "game = f.Game((bot, player))\n",
        "game.play()"
      ]
    },
    {
      "cell_type": "markdown",
      "id": "1d48d6ca-4996-4195-8abb-3d5ad570aa0b",
      "metadata": {
        "tags": [],
        "id": "1d48d6ca-4996-4195-8abb-3d5ad570aa0b"
      },
      "source": [
        "## Проверка гипотезы\n",
        "В этом разделе столкнём друг с другом ботов Naive1 и RS_Left 20000 раз (за одну секунду на моем компьютере играется более тысячи игр, так что количество можно увеличивать для более высокой точности, но тут это не надо). Naive1 всегда играет самую слабую карту из подходящих, не пасует и не берёт, пока может отбиваться. С RS_Left мы уже знакомы.\n",
        "\n",
        "Сила карты считается очень простым способом. Не козырным картам по возрастанию от 6 до туза ставится в соответствие счёт от 0 до 8. Козырным картам от 6 до туза ставится в соответствие счёт от 9 до 13.\n",
        "\n",
        "Будем сохрянять длительности игр на будущее."
      ]
    },
    {
      "cell_type": "code",
      "execution_count": null,
      "id": "edb61fe7-6fb9-4067-b481-246d38d7326f",
      "metadata": {
        "id": "edb61fe7-6fb9-4067-b481-246d38d7326f",
        "outputId": "b370f9fe-68ec-4f6f-ad87-5bc76a605957"
      },
      "outputs": [
        {
          "name": "stderr",
          "output_type": "stream",
          "text": [
            "100%|███████████████████████████████████| 20000/20000 [00:17<00:00, 1164.84it/s]\n"
          ]
        }
      ],
      "source": [
        "naive = f.Naive1('naive')\n",
        "random = f.RS_Left('random')\n",
        "players = (naive, random)\n",
        "count = 20000\n",
        "\n",
        "fool_history = []\n",
        "lengths_history = []\n",
        "for i in tqdm(range(count)):\n",
        "    \n",
        "    #играем игру\n",
        "    game = f.Game(players)\n",
        "    game.play()\n",
        "    \n",
        "    #проверяем, кто проиграл\n",
        "    fool = game.results['fool']\n",
        "    if naive in fool: fool_history.append('naive')\n",
        "    elif random in fool: fool_history.append('random')\n",
        "    else: fool_history.append('draw')\n",
        "    \n",
        "    #сохряняем длительность\n",
        "    lengths_history.append(game.results['length'])\n",
        "    \n",
        "    #избавляемся от вещей, хранящихся у игроков от прошлой игры. похоже на optimizer.zero_grad() :))))))\n",
        "    for p in players: p.dump()\n",
        "    \n",
        "n_vs_r = pd.DataFrame(data = (lengths_history, fool_history), index = ['lengths', 'fool']).T"
      ]
    },
    {
      "cell_type": "code",
      "execution_count": null,
      "id": "6eacf37a-1827-4c07-bff1-86cb1d320695",
      "metadata": {
        "id": "6eacf37a-1827-4c07-bff1-86cb1d320695"
      },
      "outputs": [],
      "source": []
    },
    {
      "cell_type": "code",
      "execution_count": null,
      "id": "f9fb049b-acfc-42e0-9780-2cdd25b2890d",
      "metadata": {
        "id": "f9fb049b-acfc-42e0-9780-2cdd25b2890d",
        "outputId": "30163f92-cdf4-4e0c-e359-02eb658e0401"
      },
      "outputs": [
        {
          "name": "stdout",
          "output_type": "stream",
          "text": [
            "Naive lost 28.51% of games\n",
            "Random lost 68.35% of games\n",
            "Draw was 3.14% of games\n"
          ]
        }
      ],
      "source": [
        "fool_counts = n_vs_r['fool'].value_counts()\n",
        "print(f\"Naive lost {fool_counts['naive']*100/count}% of games\",\n",
        "      f\"Random lost {fool_counts['random']*100/count}% of games\",\n",
        "      f\"Draw was {fool_counts['draw']*100/count}% of games\", sep='\\n')"
      ]
    },
    {
      "cell_type": "markdown",
      "id": "ad944a01-7b57-4b9a-a731-36823eb4403e",
      "metadata": {
        "id": "ad944a01-7b57-4b9a-a731-36823eb4403e"
      },
      "source": [
        "Выходит, что я был не прав, и выбирать самую слабую карту в среднем лучше, чем играть наобум. Но всё равно, если играть наобум, можно не проигрывать практически треть игр. Мне кажется, это поразительный результат."
      ]
    },
    {
      "cell_type": "markdown",
      "id": "e242bde1-8a67-4bfe-86b4-123643221ce3",
      "metadata": {
        "tags": [],
        "id": "e242bde1-8a67-4bfe-86b4-123643221ce3"
      },
      "source": [
        "## Улучшение стратегии\n",
        "Тестируя разные идеи, я заметил, что придерживать козырные карты, не играя их в первые несколько ходов, даёт неплохое преимущество. При этом почти не важно, придерживать ли все козыри или начиная с какого-то номинала. Думаю, это потому что козырные карты по ценности делают очень высокий скачок по сравнению с обычными картами, поэтому моделирование силы вышеописанным образом не очень разумно, но для моих целей удовлетворительно.\n",
        "\n",
        "В боте Naive2 добавлена способность не играть козыри до заранее заданного номера хода. Не очень интересно смотреть, как такой бот будет играть только против одного соперника, поэтому можно представить себе игру, в котрой будет два игрока, а стратегией будет как раз число ходов, до которого игрок не играет козыри. Выигрышем будет доля поражений соперника за большое число игр.\n",
        "\n",
        "Naive2 принимает значение cutoff, определяющее ход, начиная с которого бот начинает использовать козыри. Конечно, если в руке нет карт кроме козырей, то придётся играть козыря во время атаки.\n",
        "Для начала определим, какие значения cutoff в принципе стоит проверять, то есть насколько длинные вообще бывают игры. Именно для этого в предыдущем разделе мы сохраняли длины. Да, там играли другие игроки, но количество длиных игр пренебрежимо мало, поэтому отсечём до какого-то адекватного значения."
      ]
    },
    {
      "cell_type": "code",
      "execution_count": null,
      "id": "35ccf201-cab2-4e33-97d7-6b252590d2ed",
      "metadata": {
        "id": "35ccf201-cab2-4e33-97d7-6b252590d2ed",
        "outputId": "17d1bbe2-7813-4d39-f24f-d30776e4c423"
      },
      "outputs": [
        {
          "name": "stdout",
          "output_type": "stream",
          "text": [
            "Вот столько длилась самая длинная игра:  29\n"
          ]
        }
      ],
      "source": [
        "print('Вот столько длилась самая длинная игра: ', n_vs_r.lengths.max())"
      ]
    },
    {
      "cell_type": "code",
      "execution_count": null,
      "id": "67df44fa-7c16-4244-8696-898cf73ee205",
      "metadata": {
        "id": "67df44fa-7c16-4244-8696-898cf73ee205",
        "outputId": "378ec358-fc68-4877-fd7b-5cdd7806bb24"
      },
      "outputs": [
        {
          "data": {
            "image/png": "[encoded data removed]",
            "text/plain": [
              "<Figure size 640x480 with 1 Axes>"
            ]
          },
          "metadata": {},
          "output_type": "display_data"
        }
      ],
      "source": [
        "plt.hist(n_vs_r['lengths'], color='green')\n",
        "plt.title('Длительности игр из предыдущего раздела');"
      ]
    },
    {
      "cell_type": "markdown",
      "id": "0da5dbd5-8fe8-432e-bfd3-09047682a78b",
      "metadata": {
        "id": "0da5dbd5-8fe8-432e-bfd3-09047682a78b"
      },
      "source": [
        "Норм гистограмма."
      ]
    },
    {
      "cell_type": "markdown",
      "id": "b6e6409d-53ad-4f74-a983-22835346c976",
      "metadata": {
        "id": "b6e6409d-53ad-4f74-a983-22835346c976"
      },
      "source": [
        "Возьмём 20 за максимальное значение cutoff. Если больше, мне придётся ждать вечность, плюс к тому по любому здравому смыслу это будет примерно то же самое, что не играть козыри вообще.\n",
        "\n",
        "Прогоним по 5 тысяч игр каждой комбинацией стратегий. Но у многих есть симметричные, поэтому надо рассматривать не все. Это даст нам $231$ комбинаций, что должно занять примерно 17.5 минут на моем компьютере. "
      ]
    },
    {
      "cell_type": "code",
      "execution_count": null,
      "id": "60be1a8d-df89-47d3-bd7a-5b248cbbd3e1",
      "metadata": {
        "id": "60be1a8d-df89-47d3-bd7a-5b248cbbd3e1",
        "outputId": "fc1b4003-bbf4-4955-d45f-ba3ad2060752"
      },
      "outputs": [
        {
          "data": {
            "image/png": "[encoded data removed]",
            "text/plain": [
              "<Figure size 640x480 with 1 Axes>"
            ]
          },
          "metadata": {},
          "output_type": "display_data"
        }
      ],
      "source": [
        "#сгенерируем все пары стратегий:\n",
        "strats = [(a, b) for a in range(21) for b in range(21) if b<=a]\n",
        "plt.scatter([p[0] for p in strats], [p[1] for p in strats], color='green')\n",
        "plt.xlabel('Стратегии первого игрока')\n",
        "plt.ylabel('Стратегии второго игрока');"
      ]
    },
    {
      "cell_type": "code",
      "execution_count": null,
      "id": "1fc4bd0e-46db-4da5-ab3c-0d18dc236a53",
      "metadata": {
        "id": "1fc4bd0e-46db-4da5-ab3c-0d18dc236a53",
        "outputId": "2cd81fec-5b5f-49f6-be23-e66c99d95082"
      },
      "outputs": [
        {
          "name": "stderr",
          "output_type": "stream",
          "text": [
            "100%|█████████████████████████████████████████| 231/231 [22:54<00:00,  5.95s/it]\n"
          ]
        }
      ],
      "source": [
        "#warning: ДОЛГО!\n",
        "results = {}\n",
        "for pair in tqdm(strats):\n",
        "    p1 = f.Naive2('p1', cutoff=pair[0])\n",
        "    p2 = f.Naive2('p2', cutoff=pair[1])\n",
        "    players = (p1, p2)\n",
        "    fool_history = []\n",
        "    for i in range(5000):\n",
        "        game = f.Game(players)\n",
        "        game.play()\n",
        "        \n",
        "        fool = game.results['fool']\n",
        "        if p1 in fool: fool_history.append('p1')\n",
        "        elif p2 in fool: fool_history.append('p2')\n",
        "        else: fool_history.append('draw')\n",
        "        \n",
        "        for p in players: p.dump()     \n",
        "    p1_win_rate = sum([r == 'p2' for r in fool_history])\n",
        "    results[pair] = p1_win_rate"
      ]
    },
    {
      "cell_type": "code",
      "execution_count": null,
      "id": "feec4c8f-602d-419d-8dc5-db284c998dab",
      "metadata": {
        "id": "feec4c8f-602d-419d-8dc5-db284c998dab"
      },
      "outputs": [],
      "source": [
        "for pair in strats:\n",
        "    results[pair] = results[pair]/5000\n",
        "    if pair[0] != pair[1]:\n",
        "        results[(pair[1], pair[0])] = 1-results[pair]"
      ]
    },
    {
      "cell_type": "markdown",
      "id": "beeeae49-7dbb-409e-a0af-e93a874b83ce",
      "metadata": {
        "id": "beeeae49-7dbb-409e-a0af-e93a874b83ce"
      },
      "source": [
        "Теперь нарисуем heatmap, чтобы взглянуть на результаты. "
      ]
    },
    {
      "cell_type": "code",
      "execution_count": null,
      "id": "e6a1701c-f8ec-47f6-a614-5253ece5bd6b",
      "metadata": {
        "id": "e6a1701c-f8ec-47f6-a614-5253ece5bd6b",
        "outputId": "48890c43-d584-44e2-9b9e-9fa8b673b2bb"
      },
      "outputs": [
        {
          "data": {
            "image/png": "[encoded data removed]",
            "text/plain": [
              "<Figure size 640x480 with 2 Axes>"
            ]
          },
          "metadata": {},
          "output_type": "display_data"
        }
      ],
      "source": [
        "import numpy as np\n",
        "results_numpy = np.zeros((21, 21))\n",
        "for pair in results:\n",
        "    results_numpy[pair[0], pair[1]] = results[pair]\n",
        "\n",
        "import seaborn as sns\n",
        "\n",
        "sns.heatmap(results_numpy);"
      ]
    },
    {
      "cell_type": "markdown",
      "id": "d2ef5a13-83da-45a3-8b49-32531c6c101e",
      "metadata": {
        "id": "d2ef5a13-83da-45a3-8b49-32531c6c101e"
      },
      "source": [
        "Первый игрок, на выгрыш которого мы смотрим расположен по вертикали. Видно, что оптималньее всего держать козыри до примерно 8-10 хода, если мы думаем, что наш противник держит козыри до хода не больше нашего. С учётом того что обычные люди редко держат козыри слишком долго (а ещё в этом есть непостояноство), начинать разыгрывать своих козырей около 7-8 хода кажется оптимальным. Понятно, что наш бот довольно глупый, поэтому скорее всего в реальной жизни надо действовать по-другому, но из этого эксперимента мы не сможем узнать это."
      ]
    },
    {
      "cell_type": "markdown",
      "id": "fe2571d3-22bd-484a-a3d0-298471eaf738",
      "metadata": {
        "tags": [],
        "id": "fe2571d3-22bd-484a-a3d0-298471eaf738"
      },
      "source": [
        "## Нейросеть\n",
        "От нейросети мы вряд ли что-то узнаем о том, как играть (если только не строить однослойный классификатор, где веса можно легко проинтерпретировать). Поэтому это будет скорее для интереса, можно ли чего-то добиться таким образом, которым я собираюсь. \n",
        "\n",
        "Выбор карты в на каждом ходу это, по сути, задача классификации. Но тренировать обычным образом классификатор не выйдет, посколько никто не знает, как правильно ходить. Использовать нормальный RL подход я не могу за ограниченное время до дедлайна, но могу попытаться сделать вот что:\n",
        "- Запустить рандомную (по-настоящему рандомную, то есть без прикола играть самую левую карту) стратегию и нагенерировать кучу ходов. В настоящих играх с какой-нибудь стратегией (выберем, скажем, стратегию 7 из предыдущего раздела)\n",
        "- Отсечь только ходы, которые приблизили игрока к победе\n",
        "- Натренировать простую feed-through нейросеть, используя в качестве фичей состояние игры на момент хода, а в качестве метки выбранную рандомной стратегией карту\n",
        "\n",
        "Я сначала думал использовать RNN, но для этого очень сложно будет выбрать правильные данные, так что пока остановлюсь на том, что есть.\n",
        "\n",
        "Осталось определить, какие ходы приближают игрока к победе. Настоящего ответа никто не знает, поэтому будем считать так:\n",
        "- Во-первых к победе явным образом приблежают ходы, после которых у нас стало меньше карт. Но это относится к концу игры\n",
        "- Во-вторых к победе приближают ходы, после которых средняя сила карт в руке растёт\n",
        "\n",
        "Понятно, что не все такие ходы хорошие, но делать что-то более сложное не хочется.\n",
        "\n",
        "### Какие берём фичи\n",
        "- 36 one-hot переменных для карт в руке\n",
        "- 36 one-hot переменных для карт на доске\n",
        "- 38 one-hot переменных для легальных ходов (потому что есть pass и take)\n",
        "- номер хода\n",
        "- 1 one-hot переменная для определения атаки/защиты\n",
        "- 4 one-hot переменных для козырной масти\n",
        "\n",
        "Всего 116 переменных\n",
        "\n",
        "Я очень не уверен, что такого подхода будет достаточно, для хорошего результата, но интересно, что выйдет"
      ]
    },
    {
      "cell_type": "code",
      "execution_count": 1,
      "id": "e6decb59-a110-4463-8b97-c5bd078d585b",
      "metadata": {
        "id": "e6decb59-a110-4463-8b97-c5bd078d585b"
      },
      "outputs": [],
      "source": [
        "import numpy as np\n",
        "import torch\n",
        "import torch.nn as nn"
      ]
    },
    {
      "cell_type": "markdown",
      "id": "2d48c516-878c-4771-ad52-fe7730f45285",
      "metadata": {
        "id": "2d48c516-878c-4771-ad52-fe7730f45285"
      },
      "source": [
        "### Генерируем данные"
      ]
    },
    {
      "cell_type": "markdown",
      "source": [
        "Для начала напишем бота, который будет в каждый момент принятия решения собирать фичи, а после хода будет записывать или отбрасывать ход."
      ],
      "metadata": {
        "id": "MmvsWuK_NYqO"
      },
      "id": "MmvsWuK_NYqO"
    },
    {
      "cell_type": "code",
      "source": [
        "class RS_gatherer(f.PowerPlayer, f.RS):\n",
        "  #подготовка к началу игры\n",
        "  def inputInfo(self, info):\n",
        "    super().inputInfo(info)\n",
        "    self.game_data = torch.zeros(117)#117, а не 116, потому что ещё надо ход записывать\n",
        "    self.move_data = torch.zeros(117)#сбор данных с отдельного хода\n",
        "\n",
        "  # в начале хода надо запомнить, что было с рукой\n",
        "  def newMove(self, board, valuesOnBoard, moveState, cardsOnBoard):\n",
        "    super().newMove(board, valuesOnBoard, moveState, cardsOnBoard)\n",
        "    self.hand_power = self.averagePower(self.hand)\n",
        "    self.hand_size = len(self.hand)\n",
        "\n",
        "  # определяем, надо ли сохранять данные с этого хода\n",
        "  def inputMoveInfo(self, info):\n",
        "    super().inputMoveInfo(info)\n",
        "    if len(self.hand) < self.hand_size or self.averagePower(self.hand) > self.hand_power:\n",
        "      self.game_data = torch.cat((self.game_data.view(-1, 117), self.move_data.view(-1, 117)), 0)\n",
        "    self.move_data = torch.zeros(117)\n",
        "\n",
        "  # У каждого бота есть метод атаки и защиты, но здесь мы в них ещё будем записывать данные\n",
        "  def attack(self, moves):\n",
        "    move = super().attack(moves)\n",
        "    data = torch.zeros(117)\n",
        "    data[self.hand] = 1\n",
        "    data[[card + 36 for card in self.cardsOnBoard]] = 1\n",
        "    if 'pass' in moves:\n",
        "      data[[card + 72 for card in moves[:-1]]] = 1\n",
        "      data[108] = 1\n",
        "    else: data[[card + 72 for card in moves]] = 1\n",
        "    data[110] = self.moveN\n",
        "    data[111] = 1\n",
        "    data[-self.trump-2] = 1\n",
        "    if move == 'pass':\n",
        "      data[-1] = 38\n",
        "    else: data[-1] = move\n",
        "    if torch.equal(self.move_data, torch.zeros(117)): self.move_data = data\n",
        "    else: self.move_data = torch.cat((data.view(-1, 117), self.move_data.view(-1, 117)), 0)\n",
        "\n",
        "    return move\n",
        "\n",
        "  def defend(self, moves):\n",
        "    move = super().attack(moves)\n",
        "    data = torch.zeros(117)\n",
        "    data[self.hand] = 1\n",
        "    data[[card + 36 for card in self.cardsOnBoard]] = 1\n",
        "    data[[card + 72 for card in moves[:-1]]] = 1\n",
        "    data[109] = 1\n",
        "    data[110] = self.moveN\n",
        "    data[111] = 0\n",
        "    data[-self.trump-2] = 1\n",
        "    if move == 'take':\n",
        "      data[-1] = 37\n",
        "    else: data[-1] = move\n",
        "    self.data = data\n",
        "    if torch.equal(self.move_data, torch.zeros(117)): self.move_data = data\n",
        "    else: self.move_data = torch.cat((data.view(-1, 117), self.move_data.view(-1, 117)), 0)\n",
        "\n",
        "    return move"
      ],
      "metadata": {
        "id": "XwpqxodFNl1r"
      },
      "id": "XwpqxodFNl1r",
      "execution_count": 143,
      "outputs": []
    },
    {
      "cell_type": "code",
      "execution_count": 144,
      "id": "abb35018-3cfa-404c-a6b3-ca7bcb54fe43",
      "metadata": {
        "colab": {
          "base_uri": "https://localhost:8080/"
        },
        "id": "abb35018-3cfa-404c-a6b3-ca7bcb54fe43",
        "outputId": "f01a5628-cd06-48aa-ad19-fa195d7984c1"
      },
      "outputs": [
        {
          "output_type": "execute_result",
          "data": {
            "text/plain": [
              "torch.Size([28, 117])"
            ]
          },
          "metadata": {},
          "execution_count": 144
        }
      ],
      "source": [
        "rand = RS_gatherer('random')\n",
        "naive = f.Naive2('naive', cutoff=7)\n",
        "\n",
        "game = f.Game((rand, naive))\n",
        "game.play()\n",
        "rand.game_data.shape    "
      ]
    },
    {
      "cell_type": "markdown",
      "source": [
        "Одна игра даёт довольно много строчек, так что я запущу всего 40000 тысяч игр и сохраню тензор со всеми результатами."
      ],
      "metadata": {
        "id": "jUemaeSqZqSw"
      },
      "id": "jUemaeSqZqSw"
    },
    {
      "cell_type": "code",
      "source": [
        "#WARNING очень долго\n",
        "X = torch.zeros(117)\n",
        "rand = RS_gatherer('random')\n",
        "naive = f.Naive2('naive', cutoff=7)\n",
        "players = (rand, naive)\n",
        "\n",
        "for i in tqdm(range(int(4e4))):\n",
        "  game = f.Game(players)\n",
        "  game.play()\n",
        "\n",
        "  #игра может не давать никаких данных, рандом всё же\n",
        "  if not torch.equal(rand.game_data, torch.zeros(117)):\n",
        "    X = torch.cat((X.view(-1, 117), rand.game_data.view(-1, 117)[1:,:]))\n",
        "  for p in players: p.dump()"
      ],
      "metadata": {
        "colab": {
          "base_uri": "https://localhost:8080/"
        },
        "id": "UKr2YxscaMFt",
        "outputId": "63117c1f-5bf8-436d-d463-63160fd5cef0"
      },
      "id": "UKr2YxscaMFt",
      "execution_count": 145,
      "outputs": [
        {
          "output_type": "stream",
          "name": "stderr",
          "text": [
            "100%|██████████| 40000/40000 [1:38:04<00:00,  6.80it/s]\n"
          ]
        }
      ]
    },
    {
      "cell_type": "markdown",
      "source": [
        "тензор жесть большой. я ошибся с лейблами немножко, сейчас починю."
      ],
      "metadata": {
        "id": "p4R6CQvgpKav"
      },
      "id": "p4R6CQvgpKav"
    },
    {
      "cell_type": "code",
      "source": [
        "X_train, y = X[:,:116], X[:,116]"
      ],
      "metadata": {
        "id": "HBL2C7gVpfNl"
      },
      "id": "HBL2C7gVpfNl",
      "execution_count": 146,
      "outputs": []
    },
    {
      "cell_type": "code",
      "source": [
        "y = list(y.type(torch.int))\n",
        "new_y = []\n",
        "for i in y:\n",
        "  if i == 37: new_y.append(36)\n",
        "  elif i == 38: new_y.append(37)\n",
        "  else: new_y.append(i)\n",
        "\n",
        "y = torch.tensor(new_y)"
      ],
      "metadata": {
        "id": "5J0bAlePp8Qi"
      },
      "id": "5J0bAlePp8Qi",
      "execution_count": 147,
      "outputs": []
    },
    {
      "cell_type": "code",
      "source": [
        "X.shape"
      ],
      "metadata": {
        "colab": {
          "base_uri": "https://localhost:8080/"
        },
        "id": "KAXChl5kJYGb",
        "outputId": "cf514238-95d3-41b8-9dbe-a9437c7365ed"
      },
      "id": "KAXChl5kJYGb",
      "execution_count": 148,
      "outputs": [
        {
          "output_type": "execute_result",
          "data": {
            "text/plain": [
              "torch.Size([1047545, 117])"
            ]
          },
          "metadata": {},
          "execution_count": 148
        }
      ]
    },
    {
      "cell_type": "markdown",
      "source": [
        "### Тренировка сетки"
      ],
      "metadata": {
        "id": "X0LAD37aauyA"
      },
      "id": "X0LAD37aauyA"
    },
    {
      "cell_type": "code",
      "source": [
        "from IPython.display import clear_output\n",
        "import random"
      ],
      "metadata": {
        "id": "9r4sfbsCgloW"
      },
      "id": "9r4sfbsCgloW",
      "execution_count": 149,
      "outputs": []
    },
    {
      "cell_type": "code",
      "source": [
        "fool_net = nn.Sequential(\n",
        "    nn.Linear(116, 200),\n",
        "    nn.ELU(),\n",
        "    nn.Linear(200, 100),\n",
        "    nn.ELU(),\n",
        "    nn.Linear(100, 50),\n",
        "    nn.ELU(),\n",
        "    nn.Linear(50, 38)\n",
        ")\n",
        "\n",
        "optimizer = torch.optim.Adam(fool_net.parameters())\n",
        "loss_function = nn.CrossEntropyLoss()"
      ],
      "metadata": {
        "id": "X0ayHn8RehmS"
      },
      "id": "X0ayHn8RehmS",
      "execution_count": 168,
      "outputs": []
    },
    {
      "cell_type": "code",
      "source": [
        "epochs = 8e4\n",
        "loss_history = []\n",
        "for epoch in range(int(epochs)):\n",
        "  indexes = random.sample(range(X.shape[0]), 1024)\n",
        "  x_epoch = X_train[indexes]\n",
        "  y_epoch = y[indexes]\n",
        "  pred = fool_net(x_epoch)\n",
        "  loss = loss_function(pred, y_epoch)\n",
        "  loss.backward()\n",
        "  optimizer.step()\n",
        "\n",
        "  loss_history.append(float(loss.detach()))\n",
        "\n",
        "  if (epoch+1)%100==0:\n",
        "    clear_output(wait=True)\n",
        "    plt.plot(loss_history)\n",
        "    plt.title('Loss')\n",
        "    plt.show()\n",
        "  \n",
        "  optimizer.zero_grad()"
      ],
      "metadata": {
        "colab": {
          "base_uri": "https://localhost:8080/",
          "height": 463
        },
        "id": "pC5qWf0nhlwU",
        "outputId": "1967a2cd-1530-425b-90f2-f2474770003b"
      },
      "id": "pC5qWf0nhlwU",
      "execution_count": 169,
      "outputs": [
        {
          "output_type": "error",
          "ename": "KeyboardInterrupt",
          "evalue": "ignored",
          "traceback": [
            "\u001b[0;31m---------------------------------------------------------------------------\u001b[0m",
            "\u001b[0;31mAttributeError\u001b[0m                            Traceback (most recent call last)",
            "\u001b[0;32m/usr/local/lib/python3.10/dist-packages/PIL/ImageFile.py\u001b[0m in \u001b[0;36m_save\u001b[0;34m(im, fp, tile, bufsize)\u001b[0m\n\u001b[1;32m    503\u001b[0m     \u001b[0;32mtry\u001b[0m\u001b[0;34m:\u001b[0m\u001b[0;34m\u001b[0m\u001b[0;34m\u001b[0m\u001b[0m\n\u001b[0;32m--> 504\u001b[0;31m         \u001b[0mfh\u001b[0m \u001b[0;34m=\u001b[0m \u001b[0mfp\u001b[0m\u001b[0;34m.\u001b[0m\u001b[0mfileno\u001b[0m\u001b[0;34m(\u001b[0m\u001b[0;34m)\u001b[0m\u001b[0;34m\u001b[0m\u001b[0;34m\u001b[0m\u001b[0m\n\u001b[0m\u001b[1;32m    505\u001b[0m         \u001b[0mfp\u001b[0m\u001b[0;34m.\u001b[0m\u001b[0mflush\u001b[0m\u001b[0;34m(\u001b[0m\u001b[0;34m)\u001b[0m\u001b[0;34m\u001b[0m\u001b[0;34m\u001b[0m\u001b[0m\n",
            "\u001b[0;31mAttributeError\u001b[0m: '_idat' object has no attribute 'fileno'",
            "\nDuring handling of the above exception, another exception occurred:\n",
            "\u001b[0;31mKeyboardInterrupt\u001b[0m                         Traceback (most recent call last)",
            "\u001b[0;32m<ipython-input-169-ac22eed7a8a8>\u001b[0m in \u001b[0;36m<cell line: 3>\u001b[0;34m()\u001b[0m\n\u001b[1;32m     16\u001b[0m     \u001b[0mplt\u001b[0m\u001b[0;34m.\u001b[0m\u001b[0mplot\u001b[0m\u001b[0;34m(\u001b[0m\u001b[0mloss_history\u001b[0m\u001b[0;34m)\u001b[0m\u001b[0;34m\u001b[0m\u001b[0;34m\u001b[0m\u001b[0m\n\u001b[1;32m     17\u001b[0m     \u001b[0mplt\u001b[0m\u001b[0;34m.\u001b[0m\u001b[0mtitle\u001b[0m\u001b[0;34m(\u001b[0m\u001b[0;34m'Loss'\u001b[0m\u001b[0;34m)\u001b[0m\u001b[0;34m\u001b[0m\u001b[0;34m\u001b[0m\u001b[0m\n\u001b[0;32m---> 18\u001b[0;31m     \u001b[0mplt\u001b[0m\u001b[0;34m.\u001b[0m\u001b[0mshow\u001b[0m\u001b[0;34m(\u001b[0m\u001b[0;34m)\u001b[0m\u001b[0;34m\u001b[0m\u001b[0;34m\u001b[0m\u001b[0m\n\u001b[0m\u001b[1;32m     19\u001b[0m \u001b[0;34m\u001b[0m\u001b[0m\n\u001b[1;32m     20\u001b[0m   \u001b[0moptimizer\u001b[0m\u001b[0;34m.\u001b[0m\u001b[0mzero_grad\u001b[0m\u001b[0;34m(\u001b[0m\u001b[0;34m)\u001b[0m\u001b[0;34m\u001b[0m\u001b[0;34m\u001b[0m\u001b[0m\n",
            "\u001b[0;32m/usr/local/lib/python3.10/dist-packages/matplotlib/pyplot.py\u001b[0m in \u001b[0;36mshow\u001b[0;34m(*args, **kwargs)\u001b[0m\n\u001b[1;32m    444\u001b[0m     \"\"\"\n\u001b[1;32m    445\u001b[0m     \u001b[0m_warn_if_gui_out_of_main_thread\u001b[0m\u001b[0;34m(\u001b[0m\u001b[0;34m)\u001b[0m\u001b[0;34m\u001b[0m\u001b[0;34m\u001b[0m\u001b[0m\n\u001b[0;32m--> 446\u001b[0;31m     \u001b[0;32mreturn\u001b[0m \u001b[0m_get_backend_mod\u001b[0m\u001b[0;34m(\u001b[0m\u001b[0;34m)\u001b[0m\u001b[0;34m.\u001b[0m\u001b[0mshow\u001b[0m\u001b[0;34m(\u001b[0m\u001b[0;34m*\u001b[0m\u001b[0margs\u001b[0m\u001b[0;34m,\u001b[0m \u001b[0;34m**\u001b[0m\u001b[0mkwargs\u001b[0m\u001b[0;34m)\u001b[0m\u001b[0;34m\u001b[0m\u001b[0;34m\u001b[0m\u001b[0m\n\u001b[0m\u001b[1;32m    447\u001b[0m \u001b[0;34m\u001b[0m\u001b[0m\n\u001b[1;32m    448\u001b[0m \u001b[0;34m\u001b[0m\u001b[0m\n",
            "\u001b[0;32m/usr/local/lib/python3.10/dist-packages/matplotlib_inline/backend_inline.py\u001b[0m in \u001b[0;36mshow\u001b[0;34m(close, block)\u001b[0m\n\u001b[1;32m     88\u001b[0m     \u001b[0;32mtry\u001b[0m\u001b[0;34m:\u001b[0m\u001b[0;34m\u001b[0m\u001b[0;34m\u001b[0m\u001b[0m\n\u001b[1;32m     89\u001b[0m         \u001b[0;32mfor\u001b[0m \u001b[0mfigure_manager\u001b[0m \u001b[0;32min\u001b[0m \u001b[0mGcf\u001b[0m\u001b[0;34m.\u001b[0m\u001b[0mget_all_fig_managers\u001b[0m\u001b[0;34m(\u001b[0m\u001b[0;34m)\u001b[0m\u001b[0;34m:\u001b[0m\u001b[0;34m\u001b[0m\u001b[0;34m\u001b[0m\u001b[0m\n\u001b[0;32m---> 90\u001b[0;31m             display(\n\u001b[0m\u001b[1;32m     91\u001b[0m                 \u001b[0mfigure_manager\u001b[0m\u001b[0;34m.\u001b[0m\u001b[0mcanvas\u001b[0m\u001b[0;34m.\u001b[0m\u001b[0mfigure\u001b[0m\u001b[0;34m,\u001b[0m\u001b[0;34m\u001b[0m\u001b[0;34m\u001b[0m\u001b[0m\n\u001b[1;32m     92\u001b[0m                 \u001b[0mmetadata\u001b[0m\u001b[0;34m=\u001b[0m\u001b[0m_fetch_figure_metadata\u001b[0m\u001b[0;34m(\u001b[0m\u001b[0mfigure_manager\u001b[0m\u001b[0;34m.\u001b[0m\u001b[0mcanvas\u001b[0m\u001b[0;34m.\u001b[0m\u001b[0mfigure\u001b[0m\u001b[0;34m)\u001b[0m\u001b[0;34m\u001b[0m\u001b[0;34m\u001b[0m\u001b[0m\n",
            "\u001b[0;32m/usr/local/lib/python3.10/dist-packages/IPython/core/display.py\u001b[0m in \u001b[0;36mdisplay\u001b[0;34m(include, exclude, metadata, transient, display_id, *objs, **kwargs)\u001b[0m\n\u001b[1;32m    318\u001b[0m             \u001b[0mpublish_display_data\u001b[0m\u001b[0;34m(\u001b[0m\u001b[0mdata\u001b[0m\u001b[0;34m=\u001b[0m\u001b[0mobj\u001b[0m\u001b[0;34m,\u001b[0m \u001b[0mmetadata\u001b[0m\u001b[0;34m=\u001b[0m\u001b[0mmetadata\u001b[0m\u001b[0;34m,\u001b[0m \u001b[0;34m**\u001b[0m\u001b[0mkwargs\u001b[0m\u001b[0;34m)\u001b[0m\u001b[0;34m\u001b[0m\u001b[0;34m\u001b[0m\u001b[0m\n\u001b[1;32m    319\u001b[0m         \u001b[0;32melse\u001b[0m\u001b[0;34m:\u001b[0m\u001b[0;34m\u001b[0m\u001b[0;34m\u001b[0m\u001b[0m\n\u001b[0;32m--> 320\u001b[0;31m             \u001b[0mformat_dict\u001b[0m\u001b[0;34m,\u001b[0m \u001b[0mmd_dict\u001b[0m \u001b[0;34m=\u001b[0m \u001b[0mformat\u001b[0m\u001b[0;34m(\u001b[0m\u001b[0mobj\u001b[0m\u001b[0;34m,\u001b[0m \u001b[0minclude\u001b[0m\u001b[0;34m=\u001b[0m\u001b[0minclude\u001b[0m\u001b[0;34m,\u001b[0m \u001b[0mexclude\u001b[0m\u001b[0;34m=\u001b[0m\u001b[0mexclude\u001b[0m\u001b[0;34m)\u001b[0m\u001b[0;34m\u001b[0m\u001b[0;34m\u001b[0m\u001b[0m\n\u001b[0m\u001b[1;32m    321\u001b[0m             \u001b[0;32mif\u001b[0m \u001b[0;32mnot\u001b[0m \u001b[0mformat_dict\u001b[0m\u001b[0;34m:\u001b[0m\u001b[0;34m\u001b[0m\u001b[0;34m\u001b[0m\u001b[0m\n\u001b[1;32m    322\u001b[0m                 \u001b[0;31m# nothing to display (e.g. _ipython_display_ took over)\u001b[0m\u001b[0;34m\u001b[0m\u001b[0;34m\u001b[0m\u001b[0m\n",
            "\u001b[0;32m/usr/local/lib/python3.10/dist-packages/IPython/core/formatters.py\u001b[0m in \u001b[0;36mformat\u001b[0;34m(self, obj, include, exclude)\u001b[0m\n\u001b[1;32m    178\u001b[0m             \u001b[0mmd\u001b[0m \u001b[0;34m=\u001b[0m \u001b[0;32mNone\u001b[0m\u001b[0;34m\u001b[0m\u001b[0;34m\u001b[0m\u001b[0m\n\u001b[1;32m    179\u001b[0m             \u001b[0;32mtry\u001b[0m\u001b[0;34m:\u001b[0m\u001b[0;34m\u001b[0m\u001b[0;34m\u001b[0m\u001b[0m\n\u001b[0;32m--> 180\u001b[0;31m                 \u001b[0mdata\u001b[0m \u001b[0;34m=\u001b[0m \u001b[0mformatter\u001b[0m\u001b[0;34m(\u001b[0m\u001b[0mobj\u001b[0m\u001b[0;34m)\u001b[0m\u001b[0;34m\u001b[0m\u001b[0;34m\u001b[0m\u001b[0m\n\u001b[0m\u001b[1;32m    181\u001b[0m             \u001b[0;32mexcept\u001b[0m\u001b[0;34m:\u001b[0m\u001b[0;34m\u001b[0m\u001b[0;34m\u001b[0m\u001b[0m\n\u001b[1;32m    182\u001b[0m                 \u001b[0;31m# FIXME: log the exception\u001b[0m\u001b[0;34m\u001b[0m\u001b[0;34m\u001b[0m\u001b[0m\n",
            "\u001b[0;32m<decorator-gen-2>\u001b[0m in \u001b[0;36m__call__\u001b[0;34m(self, obj)\u001b[0m\n",
            "\u001b[0;32m/usr/local/lib/python3.10/dist-packages/IPython/core/formatters.py\u001b[0m in \u001b[0;36mcatch_format_error\u001b[0;34m(method, self, *args, **kwargs)\u001b[0m\n\u001b[1;32m    222\u001b[0m     \u001b[0;34m\"\"\"show traceback on failed format call\"\"\"\u001b[0m\u001b[0;34m\u001b[0m\u001b[0;34m\u001b[0m\u001b[0m\n\u001b[1;32m    223\u001b[0m     \u001b[0;32mtry\u001b[0m\u001b[0;34m:\u001b[0m\u001b[0;34m\u001b[0m\u001b[0;34m\u001b[0m\u001b[0m\n\u001b[0;32m--> 224\u001b[0;31m         \u001b[0mr\u001b[0m \u001b[0;34m=\u001b[0m \u001b[0mmethod\u001b[0m\u001b[0;34m(\u001b[0m\u001b[0mself\u001b[0m\u001b[0;34m,\u001b[0m \u001b[0;34m*\u001b[0m\u001b[0margs\u001b[0m\u001b[0;34m,\u001b[0m \u001b[0;34m**\u001b[0m\u001b[0mkwargs\u001b[0m\u001b[0;34m)\u001b[0m\u001b[0;34m\u001b[0m\u001b[0;34m\u001b[0m\u001b[0m\n\u001b[0m\u001b[1;32m    225\u001b[0m     \u001b[0;32mexcept\u001b[0m \u001b[0mNotImplementedError\u001b[0m\u001b[0;34m:\u001b[0m\u001b[0;34m\u001b[0m\u001b[0;34m\u001b[0m\u001b[0m\n\u001b[1;32m    226\u001b[0m         \u001b[0;31m# don't warn on NotImplementedErrors\u001b[0m\u001b[0;34m\u001b[0m\u001b[0;34m\u001b[0m\u001b[0m\n",
            "\u001b[0;32m/usr/local/lib/python3.10/dist-packages/IPython/core/formatters.py\u001b[0m in \u001b[0;36m__call__\u001b[0;34m(self, obj)\u001b[0m\n\u001b[1;32m    339\u001b[0m                 \u001b[0;32mpass\u001b[0m\u001b[0;34m\u001b[0m\u001b[0;34m\u001b[0m\u001b[0m\n\u001b[1;32m    340\u001b[0m             \u001b[0;32melse\u001b[0m\u001b[0;34m:\u001b[0m\u001b[0;34m\u001b[0m\u001b[0;34m\u001b[0m\u001b[0m\n\u001b[0;32m--> 341\u001b[0;31m                 \u001b[0;32mreturn\u001b[0m \u001b[0mprinter\u001b[0m\u001b[0;34m(\u001b[0m\u001b[0mobj\u001b[0m\u001b[0;34m)\u001b[0m\u001b[0;34m\u001b[0m\u001b[0;34m\u001b[0m\u001b[0m\n\u001b[0m\u001b[1;32m    342\u001b[0m             \u001b[0;31m# Finally look for special method names\u001b[0m\u001b[0;34m\u001b[0m\u001b[0;34m\u001b[0m\u001b[0m\n\u001b[1;32m    343\u001b[0m             \u001b[0mmethod\u001b[0m \u001b[0;34m=\u001b[0m \u001b[0mget_real_method\u001b[0m\u001b[0;34m(\u001b[0m\u001b[0mobj\u001b[0m\u001b[0;34m,\u001b[0m \u001b[0mself\u001b[0m\u001b[0;34m.\u001b[0m\u001b[0mprint_method\u001b[0m\u001b[0;34m)\u001b[0m\u001b[0;34m\u001b[0m\u001b[0;34m\u001b[0m\u001b[0m\n",
            "\u001b[0;32m/usr/local/lib/python3.10/dist-packages/IPython/core/pylabtools.py\u001b[0m in \u001b[0;36mprint_figure\u001b[0;34m(fig, fmt, bbox_inches, base64, **kwargs)\u001b[0m\n\u001b[1;32m    149\u001b[0m         \u001b[0mFigureCanvasBase\u001b[0m\u001b[0;34m(\u001b[0m\u001b[0mfig\u001b[0m\u001b[0;34m)\u001b[0m\u001b[0;34m\u001b[0m\u001b[0;34m\u001b[0m\u001b[0m\n\u001b[1;32m    150\u001b[0m \u001b[0;34m\u001b[0m\u001b[0m\n\u001b[0;32m--> 151\u001b[0;31m     \u001b[0mfig\u001b[0m\u001b[0;34m.\u001b[0m\u001b[0mcanvas\u001b[0m\u001b[0;34m.\u001b[0m\u001b[0mprint_figure\u001b[0m\u001b[0;34m(\u001b[0m\u001b[0mbytes_io\u001b[0m\u001b[0;34m,\u001b[0m \u001b[0;34m**\u001b[0m\u001b[0mkw\u001b[0m\u001b[0;34m)\u001b[0m\u001b[0;34m\u001b[0m\u001b[0;34m\u001b[0m\u001b[0m\n\u001b[0m\u001b[1;32m    152\u001b[0m     \u001b[0mdata\u001b[0m \u001b[0;34m=\u001b[0m \u001b[0mbytes_io\u001b[0m\u001b[0;34m.\u001b[0m\u001b[0mgetvalue\u001b[0m\u001b[0;34m(\u001b[0m\u001b[0;34m)\u001b[0m\u001b[0;34m\u001b[0m\u001b[0;34m\u001b[0m\u001b[0m\n\u001b[1;32m    153\u001b[0m     \u001b[0;32mif\u001b[0m \u001b[0mfmt\u001b[0m \u001b[0;34m==\u001b[0m \u001b[0;34m'svg'\u001b[0m\u001b[0;34m:\u001b[0m\u001b[0;34m\u001b[0m\u001b[0;34m\u001b[0m\u001b[0m\n",
            "\u001b[0;32m/usr/local/lib/python3.10/dist-packages/matplotlib/backend_bases.py\u001b[0m in \u001b[0;36mprint_figure\u001b[0;34m(self, filename, dpi, facecolor, edgecolor, orientation, format, bbox_inches, pad_inches, bbox_extra_artists, backend, **kwargs)\u001b[0m\n\u001b[1;32m   2364\u001b[0m                 \u001b[0;31m# force the figure dpi to 72), so we need to set it again here.\u001b[0m\u001b[0;34m\u001b[0m\u001b[0;34m\u001b[0m\u001b[0m\n\u001b[1;32m   2365\u001b[0m                 \u001b[0;32mwith\u001b[0m \u001b[0mcbook\u001b[0m\u001b[0;34m.\u001b[0m\u001b[0m_setattr_cm\u001b[0m\u001b[0;34m(\u001b[0m\u001b[0mself\u001b[0m\u001b[0;34m.\u001b[0m\u001b[0mfigure\u001b[0m\u001b[0;34m,\u001b[0m \u001b[0mdpi\u001b[0m\u001b[0;34m=\u001b[0m\u001b[0mdpi\u001b[0m\u001b[0;34m)\u001b[0m\u001b[0;34m:\u001b[0m\u001b[0;34m\u001b[0m\u001b[0;34m\u001b[0m\u001b[0m\n\u001b[0;32m-> 2366\u001b[0;31m                     result = print_method(\n\u001b[0m\u001b[1;32m   2367\u001b[0m                         \u001b[0mfilename\u001b[0m\u001b[0;34m,\u001b[0m\u001b[0;34m\u001b[0m\u001b[0;34m\u001b[0m\u001b[0m\n\u001b[1;32m   2368\u001b[0m                         \u001b[0mfacecolor\u001b[0m\u001b[0;34m=\u001b[0m\u001b[0mfacecolor\u001b[0m\u001b[0;34m,\u001b[0m\u001b[0;34m\u001b[0m\u001b[0;34m\u001b[0m\u001b[0m\n",
            "\u001b[0;32m/usr/local/lib/python3.10/dist-packages/matplotlib/backend_bases.py\u001b[0m in \u001b[0;36m<lambda>\u001b[0;34m(*args, **kwargs)\u001b[0m\n\u001b[1;32m   2230\u001b[0m                 \"bbox_inches_restore\"}\n\u001b[1;32m   2231\u001b[0m             \u001b[0mskip\u001b[0m \u001b[0;34m=\u001b[0m \u001b[0moptional_kws\u001b[0m \u001b[0;34m-\u001b[0m \u001b[0;34m{\u001b[0m\u001b[0;34m*\u001b[0m\u001b[0minspect\u001b[0m\u001b[0;34m.\u001b[0m\u001b[0msignature\u001b[0m\u001b[0;34m(\u001b[0m\u001b[0mmeth\u001b[0m\u001b[0;34m)\u001b[0m\u001b[0;34m.\u001b[0m\u001b[0mparameters\u001b[0m\u001b[0;34m}\u001b[0m\u001b[0;34m\u001b[0m\u001b[0;34m\u001b[0m\u001b[0m\n\u001b[0;32m-> 2232\u001b[0;31m             print_method = functools.wraps(meth)(lambda *args, **kwargs: meth(\n\u001b[0m\u001b[1;32m   2233\u001b[0m                 *args, **{k: v for k, v in kwargs.items() if k not in skip}))\n\u001b[1;32m   2234\u001b[0m         \u001b[0;32melse\u001b[0m\u001b[0;34m:\u001b[0m  \u001b[0;31m# Let third-parties do as they see fit.\u001b[0m\u001b[0;34m\u001b[0m\u001b[0;34m\u001b[0m\u001b[0m\n",
            "\u001b[0;32m/usr/local/lib/python3.10/dist-packages/matplotlib/backends/backend_agg.py\u001b[0m in \u001b[0;36mprint_png\u001b[0;34m(self, filename_or_obj, metadata, pil_kwargs)\u001b[0m\n\u001b[1;32m    507\u001b[0m             \u001b[0;34m*\u001b[0m\u001b[0mmetadata\u001b[0m\u001b[0;34m*\u001b[0m\u001b[0;34m,\u001b[0m \u001b[0mincluding\u001b[0m \u001b[0mthe\u001b[0m \u001b[0mdefault\u001b[0m \u001b[0;34m'Software'\u001b[0m \u001b[0mkey\u001b[0m\u001b[0;34m.\u001b[0m\u001b[0;34m\u001b[0m\u001b[0;34m\u001b[0m\u001b[0m\n\u001b[1;32m    508\u001b[0m         \"\"\"\n\u001b[0;32m--> 509\u001b[0;31m         \u001b[0mself\u001b[0m\u001b[0;34m.\u001b[0m\u001b[0m_print_pil\u001b[0m\u001b[0;34m(\u001b[0m\u001b[0mfilename_or_obj\u001b[0m\u001b[0;34m,\u001b[0m \u001b[0;34m\"png\"\u001b[0m\u001b[0;34m,\u001b[0m \u001b[0mpil_kwargs\u001b[0m\u001b[0;34m,\u001b[0m \u001b[0mmetadata\u001b[0m\u001b[0;34m)\u001b[0m\u001b[0;34m\u001b[0m\u001b[0;34m\u001b[0m\u001b[0m\n\u001b[0m\u001b[1;32m    510\u001b[0m \u001b[0;34m\u001b[0m\u001b[0m\n\u001b[1;32m    511\u001b[0m     \u001b[0;32mdef\u001b[0m \u001b[0mprint_to_buffer\u001b[0m\u001b[0;34m(\u001b[0m\u001b[0mself\u001b[0m\u001b[0;34m)\u001b[0m\u001b[0;34m:\u001b[0m\u001b[0;34m\u001b[0m\u001b[0;34m\u001b[0m\u001b[0m\n",
            "\u001b[0;32m/usr/local/lib/python3.10/dist-packages/matplotlib/backends/backend_agg.py\u001b[0m in \u001b[0;36m_print_pil\u001b[0;34m(self, filename_or_obj, fmt, pil_kwargs, metadata)\u001b[0m\n\u001b[1;32m    456\u001b[0m         \"\"\"\n\u001b[1;32m    457\u001b[0m         \u001b[0mFigureCanvasAgg\u001b[0m\u001b[0;34m.\u001b[0m\u001b[0mdraw\u001b[0m\u001b[0;34m(\u001b[0m\u001b[0mself\u001b[0m\u001b[0;34m)\u001b[0m\u001b[0;34m\u001b[0m\u001b[0;34m\u001b[0m\u001b[0m\n\u001b[0;32m--> 458\u001b[0;31m         mpl.image.imsave(\n\u001b[0m\u001b[1;32m    459\u001b[0m             \u001b[0mfilename_or_obj\u001b[0m\u001b[0;34m,\u001b[0m \u001b[0mself\u001b[0m\u001b[0;34m.\u001b[0m\u001b[0mbuffer_rgba\u001b[0m\u001b[0;34m(\u001b[0m\u001b[0;34m)\u001b[0m\u001b[0;34m,\u001b[0m \u001b[0mformat\u001b[0m\u001b[0;34m=\u001b[0m\u001b[0mfmt\u001b[0m\u001b[0;34m,\u001b[0m \u001b[0morigin\u001b[0m\u001b[0;34m=\u001b[0m\u001b[0;34m\"upper\"\u001b[0m\u001b[0;34m,\u001b[0m\u001b[0;34m\u001b[0m\u001b[0;34m\u001b[0m\u001b[0m\n\u001b[1;32m    460\u001b[0m             dpi=self.figure.dpi, metadata=metadata, pil_kwargs=pil_kwargs)\n",
            "\u001b[0;32m/usr/local/lib/python3.10/dist-packages/matplotlib/image.py\u001b[0m in \u001b[0;36mimsave\u001b[0;34m(fname, arr, vmin, vmax, cmap, format, origin, dpi, metadata, pil_kwargs)\u001b[0m\n\u001b[1;32m   1687\u001b[0m         \u001b[0mpil_kwargs\u001b[0m\u001b[0;34m.\u001b[0m\u001b[0msetdefault\u001b[0m\u001b[0;34m(\u001b[0m\u001b[0;34m\"format\"\u001b[0m\u001b[0;34m,\u001b[0m \u001b[0mformat\u001b[0m\u001b[0;34m)\u001b[0m\u001b[0;34m\u001b[0m\u001b[0;34m\u001b[0m\u001b[0m\n\u001b[1;32m   1688\u001b[0m         \u001b[0mpil_kwargs\u001b[0m\u001b[0;34m.\u001b[0m\u001b[0msetdefault\u001b[0m\u001b[0;34m(\u001b[0m\u001b[0;34m\"dpi\"\u001b[0m\u001b[0;34m,\u001b[0m \u001b[0;34m(\u001b[0m\u001b[0mdpi\u001b[0m\u001b[0;34m,\u001b[0m \u001b[0mdpi\u001b[0m\u001b[0;34m)\u001b[0m\u001b[0;34m)\u001b[0m\u001b[0;34m\u001b[0m\u001b[0;34m\u001b[0m\u001b[0m\n\u001b[0;32m-> 1689\u001b[0;31m         \u001b[0mimage\u001b[0m\u001b[0;34m.\u001b[0m\u001b[0msave\u001b[0m\u001b[0;34m(\u001b[0m\u001b[0mfname\u001b[0m\u001b[0;34m,\u001b[0m \u001b[0;34m**\u001b[0m\u001b[0mpil_kwargs\u001b[0m\u001b[0;34m)\u001b[0m\u001b[0;34m\u001b[0m\u001b[0;34m\u001b[0m\u001b[0m\n\u001b[0m\u001b[1;32m   1690\u001b[0m \u001b[0;34m\u001b[0m\u001b[0m\n\u001b[1;32m   1691\u001b[0m \u001b[0;34m\u001b[0m\u001b[0m\n",
            "\u001b[0;32m/usr/local/lib/python3.10/dist-packages/PIL/Image.py\u001b[0m in \u001b[0;36msave\u001b[0;34m(self, fp, format, **params)\u001b[0m\n\u001b[1;32m   2238\u001b[0m \u001b[0;34m\u001b[0m\u001b[0m\n\u001b[1;32m   2239\u001b[0m         \u001b[0;32mtry\u001b[0m\u001b[0;34m:\u001b[0m\u001b[0;34m\u001b[0m\u001b[0;34m\u001b[0m\u001b[0m\n\u001b[0;32m-> 2240\u001b[0;31m             \u001b[0msave_handler\u001b[0m\u001b[0;34m(\u001b[0m\u001b[0mself\u001b[0m\u001b[0;34m,\u001b[0m \u001b[0mfp\u001b[0m\u001b[0;34m,\u001b[0m \u001b[0mfilename\u001b[0m\u001b[0;34m)\u001b[0m\u001b[0;34m\u001b[0m\u001b[0;34m\u001b[0m\u001b[0m\n\u001b[0m\u001b[1;32m   2241\u001b[0m         \u001b[0;32mfinally\u001b[0m\u001b[0;34m:\u001b[0m\u001b[0;34m\u001b[0m\u001b[0;34m\u001b[0m\u001b[0m\n\u001b[1;32m   2242\u001b[0m             \u001b[0;31m# do what we can to clean up\u001b[0m\u001b[0;34m\u001b[0m\u001b[0;34m\u001b[0m\u001b[0m\n",
            "\u001b[0;32m/usr/local/lib/python3.10/dist-packages/PIL/PngImagePlugin.py\u001b[0m in \u001b[0;36m_save\u001b[0;34m(im, fp, filename, chunk, save_all)\u001b[0m\n\u001b[1;32m   1346\u001b[0m         \u001b[0m_write_multiple_frames\u001b[0m\u001b[0;34m(\u001b[0m\u001b[0mim\u001b[0m\u001b[0;34m,\u001b[0m \u001b[0mfp\u001b[0m\u001b[0;34m,\u001b[0m \u001b[0mchunk\u001b[0m\u001b[0;34m,\u001b[0m \u001b[0mrawmode\u001b[0m\u001b[0;34m)\u001b[0m\u001b[0;34m\u001b[0m\u001b[0;34m\u001b[0m\u001b[0m\n\u001b[1;32m   1347\u001b[0m     \u001b[0;32melse\u001b[0m\u001b[0;34m:\u001b[0m\u001b[0;34m\u001b[0m\u001b[0;34m\u001b[0m\u001b[0m\n\u001b[0;32m-> 1348\u001b[0;31m         \u001b[0mImageFile\u001b[0m\u001b[0;34m.\u001b[0m\u001b[0m_save\u001b[0m\u001b[0;34m(\u001b[0m\u001b[0mim\u001b[0m\u001b[0;34m,\u001b[0m \u001b[0m_idat\u001b[0m\u001b[0;34m(\u001b[0m\u001b[0mfp\u001b[0m\u001b[0;34m,\u001b[0m \u001b[0mchunk\u001b[0m\u001b[0;34m)\u001b[0m\u001b[0;34m,\u001b[0m \u001b[0;34m[\u001b[0m\u001b[0;34m(\u001b[0m\u001b[0;34m\"zip\"\u001b[0m\u001b[0;34m,\u001b[0m \u001b[0;34m(\u001b[0m\u001b[0;36m0\u001b[0m\u001b[0;34m,\u001b[0m \u001b[0;36m0\u001b[0m\u001b[0;34m)\u001b[0m \u001b[0;34m+\u001b[0m \u001b[0mim\u001b[0m\u001b[0;34m.\u001b[0m\u001b[0msize\u001b[0m\u001b[0;34m,\u001b[0m \u001b[0;36m0\u001b[0m\u001b[0;34m,\u001b[0m \u001b[0mrawmode\u001b[0m\u001b[0;34m)\u001b[0m\u001b[0;34m]\u001b[0m\u001b[0;34m)\u001b[0m\u001b[0;34m\u001b[0m\u001b[0;34m\u001b[0m\u001b[0m\n\u001b[0m\u001b[1;32m   1349\u001b[0m \u001b[0;34m\u001b[0m\u001b[0m\n\u001b[1;32m   1350\u001b[0m     \u001b[0;32mif\u001b[0m \u001b[0minfo\u001b[0m\u001b[0;34m:\u001b[0m\u001b[0;34m\u001b[0m\u001b[0;34m\u001b[0m\u001b[0m\n",
            "\u001b[0;32m/usr/local/lib/python3.10/dist-packages/PIL/ImageFile.py\u001b[0m in \u001b[0;36m_save\u001b[0;34m(im, fp, tile, bufsize)\u001b[0m\n\u001b[1;32m    516\u001b[0m             \u001b[0;32melse\u001b[0m\u001b[0;34m:\u001b[0m\u001b[0;34m\u001b[0m\u001b[0;34m\u001b[0m\u001b[0m\n\u001b[1;32m    517\u001b[0m                 \u001b[0;32mwhile\u001b[0m \u001b[0;32mTrue\u001b[0m\u001b[0;34m:\u001b[0m\u001b[0;34m\u001b[0m\u001b[0;34m\u001b[0m\u001b[0m\n\u001b[0;32m--> 518\u001b[0;31m                     \u001b[0ml\u001b[0m\u001b[0;34m,\u001b[0m \u001b[0ms\u001b[0m\u001b[0;34m,\u001b[0m \u001b[0md\u001b[0m \u001b[0;34m=\u001b[0m \u001b[0me\u001b[0m\u001b[0;34m.\u001b[0m\u001b[0mencode\u001b[0m\u001b[0;34m(\u001b[0m\u001b[0mbufsize\u001b[0m\u001b[0;34m)\u001b[0m\u001b[0;34m\u001b[0m\u001b[0;34m\u001b[0m\u001b[0m\n\u001b[0m\u001b[1;32m    519\u001b[0m                     \u001b[0mfp\u001b[0m\u001b[0;34m.\u001b[0m\u001b[0mwrite\u001b[0m\u001b[0;34m(\u001b[0m\u001b[0md\u001b[0m\u001b[0;34m)\u001b[0m\u001b[0;34m\u001b[0m\u001b[0;34m\u001b[0m\u001b[0m\n\u001b[1;32m    520\u001b[0m                     \u001b[0;32mif\u001b[0m \u001b[0ms\u001b[0m\u001b[0;34m:\u001b[0m\u001b[0;34m\u001b[0m\u001b[0;34m\u001b[0m\u001b[0m\n",
            "\u001b[0;31mKeyboardInterrupt\u001b[0m: "
          ]
        }
      ]
    },
    {
      "cell_type": "markdown",
      "source": [
        "### Результаты"
      ],
      "metadata": {
        "id": "-UOhGyKlngI7"
      },
      "id": "-UOhGyKlngI7"
    },
    {
      "cell_type": "markdown",
      "source": [
        "Метрикой качества моей сетки я буду считать долю проигрышей противника в игре с этой сеткой и кем-то ещё, например Naive2 с cutoff=8. Надо написать бота который будет использовать сетку для выбора хода."
      ],
      "metadata": {
        "id": "ln6ov195oDDk"
      },
      "id": "ln6ov195oDDk"
    },
    {
      "cell_type": "code",
      "source": [
        "class NN_player(f.Player):\n",
        "  def attack(self, moves):\n",
        "    data = torch.zeros(116)\n",
        "    data[self.hand] = 1\n",
        "    data[[card + 36 for card in self.cardsOnBoard]] = 1\n",
        "    if 'pass' in moves:\n",
        "      data[[card + 72 for card in moves[:-1]]] = 1\n",
        "      data[108] = 1\n",
        "    else: data[[card + 72 for card in moves]] = 1\n",
        "    data[110] = self.moveN\n",
        "    data[111] = 1\n",
        "    data[-self.trump-2] = 1\n",
        "\n",
        "    logits = fool_net(data.view(1, 116)).detach()\n",
        "    picked_moves = torch.sort(logits, descending=True)[1].view(38)#сетка может сильно ошибаться и выбирать те ходы, которые на самом деле нельзя ходить\n",
        "    for move in picked_moves:\n",
        "      if move == 37: m = 'pass'\n",
        "      else: m = move\n",
        "      if m in moves:\n",
        "        if m == 'pass': return m\n",
        "        else: return int(m)\n",
        "\n",
        "  def defend(self, moves):\n",
        "    data = torch.zeros(116)\n",
        "    data[self.hand] = 1\n",
        "    data[[card + 36 for card in self.cardsOnBoard]] = 1\n",
        "    data[[card + 72 for card in moves[:-1]]] = 1\n",
        "    data[109] = 1\n",
        "    data[110] = self.moveN\n",
        "    data[111] = 1 #change!\n",
        "    data[-self.trump-2] = 1\n",
        "\n",
        "    logits = fool_net(data.view(1, 116)).detach()\n",
        "    picked_moves = torch.sort(logits, descending=True)[1].view(38)\n",
        "    for move in picked_moves:\n",
        "      if move == 36: m = 'take'\n",
        "      else: m = move\n",
        "      if m in moves:\n",
        "        if m == 'take': return m\n",
        "        else: return int(m)"
      ],
      "metadata": {
        "id": "cTOoH0KcnjA_"
      },
      "id": "cTOoH0KcnjA_",
      "execution_count": 170,
      "outputs": []
    },
    {
      "cell_type": "code",
      "source": [
        "#warning довольно долго\n",
        "nn_player = NN_player('nn')\n",
        "naive = f.Naive2('naive', cutoff=8)\n",
        "players = (nn_player, naive)\n",
        "fool_history = []\n",
        "\n",
        "for i in tqdm(range(5000)):\n",
        "  game = f.Game(players)\n",
        "  game.play()\n",
        "\n",
        "  fool = game.results['fool']\n",
        "  if naive in fool: fool_history.append('naive')\n",
        "  elif nn_player in fool: fool_history.append('nn')\n",
        "  else: fool_history.append('draw')\n",
        "    \n",
        "    #избавляемся от вещей, хранящихся у игроков от прошлой игры. похоже на optimizer.zero_grad() :))))))\n",
        "  for p in players: p.dump()\n"
      ],
      "metadata": {
        "colab": {
          "base_uri": "https://localhost:8080/"
        },
        "id": "nS7a4mLhuPHv",
        "outputId": "7a6467b1-d842-4d17-b8df-ea91e9170489"
      },
      "id": "nS7a4mLhuPHv",
      "execution_count": 171,
      "outputs": [
        {
          "output_type": "stream",
          "name": "stderr",
          "text": [
            "100%|██████████| 5000/5000 [02:11<00:00, 37.96it/s]\n"
          ]
        }
      ]
    },
    {
      "cell_type": "code",
      "source": [
        "fool_counts = pd.Series(fool_history).value_counts()\n",
        "print(f\"Naive lost {fool_counts['naive']*100/5000}% of games\",\n",
        "      f\"Neural network lost {fool_counts['nn']*100/5000}% of games\",\n",
        "      f\"Draw was {fool_counts['draw']*100/5000}% of games\", sep='\\n')"
      ],
      "metadata": {
        "colab": {
          "base_uri": "https://localhost:8080/"
        },
        "id": "Sv0pxtjzx5z5",
        "outputId": "09f3e936-12bf-48a8-ab57-57ccfbf192fc"
      },
      "id": "Sv0pxtjzx5z5",
      "execution_count": 172,
      "outputs": [
        {
          "output_type": "stream",
          "name": "stdout",
          "text": [
            "Naive lost 3.58% of games\n",
            "Neural network lost 95.84% of games\n",
            "Draw was 0.58% of games\n"
          ]
        }
      ]
    },
    {
      "cell_type": "markdown",
      "source": [
        "Ха-ха! Ничего не вышло\n",
        "Нейросеть могла бы теоретически поступать так же, как и наивная стратегия, но она ничему хорошему не выучилась. Критерий отбора данных плохой, дизайн плохой. Но отрицательный результат — тоже результат, я так раньше не пытался делать, так что теперь мы знаем, что так вряд ли что-то получится) 😭\n",
        "\n",
        "\n",
        "всем удачи всем пока"
      ],
      "metadata": {
        "id": "_OIKgHdS_oJ6"
      },
      "id": "_OIKgHdS_oJ6"
    }
  ],
  "metadata": {
    "kernelspec": {
      "display_name": "Python 3 (ipykernel)",
      "language": "python",
      "name": "python3"
    },
    "language_info": {
      "codemirror_mode": {
        "name": "ipython",
        "version": 3
      },
      "file_extension": ".py",
      "mimetype": "text/x-python",
      "name": "python",
      "nbconvert_exporter": "python",
      "pygments_lexer": "ipython3",
      "version": "3.9.16"
    },
    "colab": {
      "provenance": []
    }
  },
  "nbformat": 4,
  "nbformat_minor": 5
}